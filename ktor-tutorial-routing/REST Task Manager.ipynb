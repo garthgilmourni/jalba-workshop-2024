{
 "cells": [
  {
   "cell_type": "code",
   "execution_count": 6,
   "outputs": [
    {
     "name": "stdout",
     "output_type": "stream",
     "text": [
      "Clean the house\n",
      "Mow the lawn\n",
      "Buy the groceries\n",
      "Paint the fence\n"
     ]
    }
   ],
   "source": [
    "%use khttp\n",
    "\n",
    "val headers = mapOf(\"Content-Type\" to \"application/json\")\n",
    "val result = khttp.get(\"http://localhost:8080/tasks\", headers = headers)                     .jsonArray\n",
    "for(index in 0 until result.length()) {\n",
    "    val description = result.getJSONObject(index).get(\"description\")\n",
    "    println(description)\n",
    "}\n"
   ],
   "metadata": {
    "collapsed": false,
    "ExecuteTime": {
     "end_time": "2023-07-10T12:24:51.201744Z",
     "start_time": "2023-07-10T12:24:50.999320Z"
    }
   }
  },
  {
   "cell_type": "code",
   "execution_count": null,
   "outputs": [],
   "source": [],
   "metadata": {
    "collapsed": false
   }
  }
 ],
 "metadata": {
  "kernelspec": {
   "display_name": "Kotlin",
   "language": "kotlin",
   "name": "kotlin"
  },
  "language_info": {
   "name": "kotlin",
   "version": "1.8.20",
   "mimetype": "text/x-kotlin",
   "file_extension": ".kt",
   "pygments_lexer": "kotlin",
   "codemirror_mode": "text/x-kotlin",
   "nbconvert_exporter": ""
  },
  "ktnbPluginMetadata": {
   "isAddProjectLibrariesToClasspath": false
  }
 },
 "nbformat": 4,
 "nbformat_minor": 0
}
